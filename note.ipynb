{
 "cells": [
  {
   "cell_type": "code",
   "execution_count": null,
   "metadata": {},
   "outputs": [],
   "source": [
    "import math\n",
    "import numpy\n",
    "from matplotlib import pyplot"
   ]
  },
  {
   "cell_type": "code",
   "execution_count": null,
   "metadata": {},
   "outputs": [],
   "source": [
    "N = 51                                # number of points in each direction\n",
    "x_start, x_end = -2.0, 2.0            # boundaries in the x-direction\n",
    "y_start, y_end = -1.0, 1.0            # boundaries in the y-direction\n",
    "x = numpy.linspace(x_start, x_end, N)    # creates a 1D-array with the x-coordinates\n",
    "y = numpy.linspace(y_start, y_end, N)    # creates a 1D-array with the y-coordinates\n",
    "\n",
    "print('x = ', x)\n",
    "print('y = ', y)\n",
    "\n",
    "X, Y = numpy.meshgrid(x, y)              # generates a mesh grid"
   ]
  },
  {
   "cell_type": "code",
   "execution_count": null,
   "metadata": {},
   "outputs": [],
   "source": [
    "%matplotlib inline\n",
    "\n",
    "# plot the grid of points\n",
    "width = 10.0\n",
    "height = (y_end - y_start) / (x_end - x_start) * width\n",
    "pyplot.figure(figsize=(width, height))\n",
    "pyplot.xlabel('x', fontsize=16)\n",
    "pyplot.ylabel('y', fontsize=16)\n",
    "pyplot.xlim(x_start, x_end)\n",
    "pyplot.ylim(y_start, y_end)\n",
    "pyplot.scatter(X, Y, s=5, color='#CD2305', marker='o')"
   ]
  },
  {
   "cell_type": "code",
   "execution_count": null,
   "metadata": {},
   "outputs": [],
   "source": [
    "strength_source = 5.0                      # source strength\n",
    "x_source, y_source = -1.0, 0.0             # location of the source\n",
    "\n",
    "# compute the velocity field on the mesh grid\n",
    "u_source = (strength_source / (2 * math.pi) *\n",
    "            (X - x_source) / ((X - x_source)**2 + (Y - y_source)**2))\n",
    "v_source = (strength_source / (2 * math.pi) *\n",
    "            (Y - y_source) / ((X - x_source)**2 + (Y - y_source)**2))"
   ]
  },
  {
   "cell_type": "code",
   "execution_count": null,
   "metadata": {},
   "outputs": [],
   "source": [
    "# plot the streamlines\n",
    "width = 10.0\n",
    "height = (y_end - y_start) / (x_end - x_start) * width\n",
    "pyplot.figure(figsize=(width, height))\n",
    "pyplot.xlabel('x', fontsize=16)\n",
    "pyplot.ylabel('y', fontsize=16)\n",
    "pyplot.xlim(x_start, x_end)\n",
    "pyplot.ylim(y_start, y_end)\n",
    "pyplot.streamplot(X, Y, u_source, v_source,\n",
    "                  density=2, linewidth=1, arrowsize=2, arrowstyle='->')\n",
    "pyplot.scatter(x_source, y_source,\n",
    "               color='#CD2305', s=80, marker='o');"
   ]
  },
  {
   "cell_type": "code",
   "execution_count": null,
   "metadata": {},
   "outputs": [],
   "source": [
    "strength_sink = -5.0                     # strength of the sink\n",
    "x_sink, y_sink = 1.0, 0.0                # location of the sink\n",
    "\n",
    "# compute the velocity on the mesh grid\n",
    "u_sink = (strength_sink / (2 * math.pi) *\n",
    "          (X - x_sink) / ((X - x_sink)**2 + (Y - y_sink)**2))\n",
    "v_sink = (strength_sink / (2 * math.pi) *\n",
    "          (Y - y_sink) / ((X - x_sink)**2 + (Y - y_sink)**2))"
   ]
  },
  {
   "cell_type": "code",
   "execution_count": null,
   "metadata": {},
   "outputs": [],
   "source": [
    "# plot the streamlines\n",
    "width = 10.0\n",
    "height = (y_end - y_start) / (x_end - x_start) * width\n",
    "pyplot.figure(figsize=(width, height))\n",
    "pyplot.xlabel('x', fontsize=16)\n",
    "pyplot.ylabel('y', fontsize=16)\n",
    "pyplot.xlim(x_start, x_end)\n",
    "pyplot.ylim(y_start, y_end)\n",
    "pyplot.streamplot(X, Y, u_sink, v_sink,\n",
    "                  density=2, linewidth=1, arrowsize=2, arrowstyle='->')\n",
    "pyplot.scatter(x_sink, y_sink,\n",
    "               color='#CD2305', s=80, marker='o');"
   ]
  },
  {
   "cell_type": "code",
   "execution_count": null,
   "metadata": {},
   "outputs": [],
   "source": [
    "# compute the velocity of the pair source/sink by superposition\n",
    "u_pair = u_source + u_sink\n",
    "v_pair = v_source + v_sink\n",
    "\n",
    "# plot the streamlines of the pair source/sink\n",
    "width = 10.0\n",
    "height = (y_end - y_start) / (x_end - x_start) * width\n",
    "pyplot.figure(figsize=(width, height))\n",
    "pyplot.xlabel('x', fontsize=16)\n",
    "pyplot.ylabel('y', fontsize=16)\n",
    "pyplot.xlim(x_start, x_end)\n",
    "pyplot.ylim(y_start, y_end)\n",
    "pyplot.streamplot(X, Y, u_pair, v_pair,\n",
    "                  density=2.0, linewidth=1, arrowsize=2, arrowstyle='->')\n",
    "pyplot.scatter([x_source, x_sink], [y_source, y_sink], \n",
    "               color='#CD2305', s=80, marker='o');"
   ]
  }
 ],
 "metadata": {
  "kernelspec": {
   "display_name": "Python 3",
   "language": "python",
   "name": "python3"
  },
  "language_info": {
   "codemirror_mode": {
    "name": "ipython",
    "version": 3
   },
   "file_extension": ".py",
   "mimetype": "text/x-python",
   "name": "python",
   "nbconvert_exporter": "python",
   "pygments_lexer": "ipython3",
   "version": "3.7.0"
  }
 },
 "nbformat": 4,
 "nbformat_minor": 2
}
